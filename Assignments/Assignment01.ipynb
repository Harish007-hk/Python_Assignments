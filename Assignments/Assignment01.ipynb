{
  "nbformat": 4,
  "nbformat_minor": 0,
  "metadata": {
    "colab": {
      "provenance": []
    },
    "kernelspec": {
      "name": "python3",
      "display_name": "Python 3"
    },
    "language_info": {
      "name": "python"
    }
  },
  "cells": [
    {
      "cell_type": "markdown",
      "source": [
        "#1. In the below elements which of them are values or an expression? eg:- values can be\n",
        "integer or string and expressions will be mathematical operators.\n",
        "*\n",
        "&#39;hello&#39;\n",
        "-87.8\n",
        "-\n",
        "/\n",
        "+\n",
        "6\n"
      ],
      "metadata": {
        "id": "LaKzWEq9I5M_"
      }
    },
    {
      "cell_type": "code",
      "execution_count": null,
      "metadata": {
        "id": "g32gSNMn1BPQ"
      },
      "outputs": [],
      "source": [
        "*:expressoin\n",
        "\n",
        "\"hello\" : value\n",
        "\n",
        "-87.8 : value\n",
        "\n",
        "/ : expression\n",
        "\n",
        "+ : expression\n",
        "\n",
        "6 : value"
      ]
    },
    {
      "cell_type": "markdown",
      "source": [
        "#2. What is the difference between string and variable?\n"
      ],
      "metadata": {
        "id": "XIvDgDeaJTIV"
      }
    },
    {
      "cell_type": "code",
      "source": [
        "string:\n",
        "A stirng is an datatype of an values that you are Entered\n",
        "\n",
        "variable:\n",
        "A variable is where you store the values that you entering \n"
      ],
      "metadata": {
        "colab": {
          "base_uri": "https://localhost:8080/",
          "height": 35
        },
        "id": "Rc7qozNJ2Vlw",
        "outputId": "bc5e0f89-7cd2-4ed1-f79b-15b60bb0b1ce"
      },
      "execution_count": null,
      "outputs": [
        {
          "output_type": "execute_result",
          "data": {
            "text/plain": [
              "'hi'"
            ],
            "application/vnd.google.colaboratory.intrinsic+json": {
              "type": "string"
            }
          },
          "metadata": {},
          "execution_count": 5
        }
      ]
    },
    {
      "cell_type": "markdown",
      "source": [
        "#3. Describe three different data types."
      ],
      "metadata": {
        "id": "8QcQqMrKJ70A"
      }
    },
    {
      "cell_type": "code",
      "source": [
        "1:int\n",
        "2:float\n",
        "3:char"
      ],
      "metadata": {
        "id": "x8HaDERg21wI"
      },
      "execution_count": null,
      "outputs": []
    },
    {
      "cell_type": "markdown",
      "source": [
        "#4. This assignment statements, like spam = 10. What is the difference between an\n",
        "expression and a statement?"
      ],
      "metadata": {
        "id": "ploZXJW6KDyL"
      }
    },
    {
      "cell_type": "code",
      "source": [
        "A statement in Python is not evaluated for some results.\n",
        "An expression in Python is evaluated for some results"
      ],
      "metadata": {
        "id": "MnfbWPmiKDCD"
      },
      "execution_count": null,
      "outputs": []
    },
    {
      "cell_type": "markdown",
      "source": [
        "#6. After running the following code, what does the variable bacon contain?\n",
        "bacon = 22\n",
        "bacon + 1"
      ],
      "metadata": {
        "id": "zDC4S-PAKyJQ"
      }
    },
    {
      "cell_type": "code",
      "source": [
        "bacon =22\n",
        "bacon + 1"
      ],
      "metadata": {
        "colab": {
          "base_uri": "https://localhost:8080/"
        },
        "id": "h_V9VyiGK15m",
        "outputId": "c7a4e5a7-4402-4b63-f59f-19e3d08ee5a5"
      },
      "execution_count": 1,
      "outputs": [
        {
          "output_type": "execute_result",
          "data": {
            "text/plain": [
              "23"
            ]
          },
          "metadata": {},
          "execution_count": 1
        }
      ]
    },
    {
      "cell_type": "markdown",
      "source": [
        "#7. What should the values of the following two terms be?\n",
        "&#39;spam&#39; + &#39;spamspam&#39;\n",
        "&#39;spam&#39; * 3"
      ],
      "metadata": {
        "id": "kM1cMbWbLAKD"
      }
    },
    {
      "cell_type": "code",
      "source": [
        "'spam'+'spamspam'"
      ],
      "metadata": {
        "colab": {
          "base_uri": "https://localhost:8080/",
          "height": 35
        },
        "id": "SaoxlxzMK8Nd",
        "outputId": "37554ba9-06ff-4679-a752-d8dfe93b7954"
      },
      "execution_count": 2,
      "outputs": [
        {
          "output_type": "execute_result",
          "data": {
            "text/plain": [
              "'spamspamspam'"
            ],
            "application/vnd.google.colaboratory.intrinsic+json": {
              "type": "string"
            }
          },
          "metadata": {},
          "execution_count": 2
        }
      ]
    },
    {
      "cell_type": "code",
      "source": [
        "'spam'*3"
      ],
      "metadata": {
        "colab": {
          "base_uri": "https://localhost:8080/",
          "height": 35
        },
        "id": "ajWe5adXLOCZ",
        "outputId": "d8c9c053-f928-4d5a-d8bb-b75ee3db252b"
      },
      "execution_count": 3,
      "outputs": [
        {
          "output_type": "execute_result",
          "data": {
            "text/plain": [
              "'spamspamspam'"
            ],
            "application/vnd.google.colaboratory.intrinsic+json": {
              "type": "string"
            }
          },
          "metadata": {},
          "execution_count": 3
        }
      ]
    },
    {
      "cell_type": "markdown",
      "source": [
        "#8. Why is eggs a valid variable name while 100 is invalid?"
      ],
      "metadata": {
        "id": "6EqwThW-LWt0"
      }
    },
    {
      "cell_type": "code",
      "source": [
        "8. Why is eggs a valid variable name while 100 is invalid , because \n",
        "\n",
        "A variable shold start with Alphabets or underscore , number are not alloed to assagin"
      ],
      "metadata": {
        "id": "1hYNmlmzLQ7l"
      },
      "execution_count": 4,
      "outputs": []
    },
    {
      "cell_type": "markdown",
      "source": [
        "#9.What three functions can be used to get the integer, floating-point number, or string\n",
        "version of a value?"
      ],
      "metadata": {
        "id": "O2Ul_oDlL8hl"
      }
    },
    {
      "cell_type": "code",
      "source": [
        "int(), float(), str()"
      ],
      "metadata": {
        "id": "YqDQT3LSLqoj"
      },
      "execution_count": null,
      "outputs": []
    },
    {
      "cell_type": "markdown",
      "source": [
        "#10. Why does this expression cause an error? How can you fix it?\n",
        "&#39;I have eaten &#39; + 99 + &#39; burritos.&#39;\n"
      ],
      "metadata": {
        "id": "v0iYuzlkMCTq"
      }
    },
    {
      "cell_type": "code",
      "source": [
        "this expression cause an error because , in the rule of contatenation if we consider the string values\n",
        "we can concatinate str to str . 99 is not a string\n",
        "\n",
        "fix error:\n",
        "'i have eaten'+'99'+'burritos.'"
      ],
      "metadata": {
        "id": "mrsf6nGqMFqN"
      },
      "execution_count": 5,
      "outputs": []
    },
    {
      "cell_type": "code",
      "source": [],
      "metadata": {
        "id": "9ZtaqVWaMPia"
      },
      "execution_count": null,
      "outputs": []
    }
  ]
}